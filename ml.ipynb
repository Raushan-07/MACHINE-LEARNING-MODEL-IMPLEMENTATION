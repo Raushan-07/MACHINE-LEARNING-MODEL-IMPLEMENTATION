# 📘 1. Import Libraries
import pandas as pd
import numpy as np
import matplotlib.pyplot as plt
import seaborn as sns
from sklearn.model_selection import train_test_split
from sklearn.feature_extraction.text import TfidfVectorizer
from sklearn.naive_bayes import MultinomialNB
from sklearn.metrics import accuracy_score, confusion_matrix, classification_report

# 📘 2. Load Dataset
# Dataset format: Two columns - 'label' (spam/ham), 'message' (SMS content)
df = pd.read_csv("spam.csv", encoding='latin-1')[['v1', 'v2']]
df.columns = ['label', 'message']

# 📘 3. Data Preprocessing
df['label'] = df['label'].map({'ham': 0, 'spam': 1})  # Convert labels to binary
print(df.head())

# 📘 4. Train-Test Split
X_train, X_test, y_train, y_test = train_test_split(df['message'], df['label'], test_size=0.2, random_state=42)

# 📘 5. Text Vectorization
vectorizer = TfidfVectorizer(stop_words='english')
X_train_vec = vectorizer.fit_transform(X_train)
X_test_vec = vectorizer.transform(X_test)

# 📘 6. Model Training
model = MultinomialNB()
model.fit(X_train_vec, y_train)

# 📘 7. Model Evaluation
y_pred = model.predict(X_test_vec)

print("Accuracy:", accuracy_score(y_test, y_pred))
print("\nClassification Report:\n", classification_report(y_test, y_pred))
print("\nConfusion Matrix:\n", confusion_matrix(y_test, y_pred))

# 📘 8. Predict on Custom Messages
sample = ["Free entry in 2 a wkly comp to win FA Cup!", 
          "Hey, how are you doing today?"]
sample_vec = vectorizer.transform(sample)
print("\nPredictions:", model.predict(sample_vec))  # 1 for spam, 0 for ham
